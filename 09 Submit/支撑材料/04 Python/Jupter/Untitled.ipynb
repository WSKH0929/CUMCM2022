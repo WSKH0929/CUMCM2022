{
 "cells": [
  {
   "cell_type": "code",
   "execution_count": 47,
   "id": "08661ea0",
   "metadata": {},
   "outputs": [
    {
     "name": "stdout",
     "output_type": "stream",
     "text": [
      "[0 1 0 0 0 0 0 1 1 1 1 0 0 0 1 1 1 1]\n",
      "18\n",
      "[0 0 0 0 0 1 1 0 1 0 0 1 1 0 0 1 1 1 0 1 0 1 0 0 0 0 1 1 0 0 1 1 1 1 1 0 1\n",
      " 0 1 0 0 0 1 0 0 1 0 0 0]\n",
      "49\n"
     ]
    }
   ],
   "source": [
    "from sklearn.cluster import KMeans\n",
    "import pandas as pd\n",
    "data = pd.read_excel(\n",
    "    r'D:\\2 BachelorDegree\\大四上比赛或项目资料\\数模国赛\\OurGit\\cumcm2022\\05 Wskh\\Python\\CUMCM2022\\src\\data\\data.xlsx',\n",
    "    sheet_name=\"高钾\")\n",
    "x = []\n",
    "columns = data.columns\n",
    "for i in range(data.shape[0]):\n",
    "    lst = []\n",
    "    for column in columns[1:15]:\n",
    "        if column == \"二氧化硅(SiO2)\" or column == \"氧化钾(K2O)\" or column == \"氧化钙(CaO)\" or column == \"氧化铝(Al2O3)\" or column == \"氧化铁(Fe2O3)\" or column == \"氧化铜(CuO)\" or column == \"五氧化二磷(P2O5)\" or column == \"氧化钠(Na2O)\":\n",
    "            lst.append(data.iloc[i][column])\n",
    "    x.append(lst)\n",
    "# print(x)\n",
    "y_pred = KMeans(n_clusters=2, random_state=520).fit_predict(x)\n",
    "print(y_pred)\n",
    "print(len(y_pred))\n",
    "\n",
    "data = pd.read_excel(\n",
    "    r'D:\\2 BachelorDegree\\大四上比赛或项目资料\\数模国赛\\OurGit\\cumcm2022\\05 Wskh\\Python\\CUMCM2022\\src\\data\\data.xlsx',\n",
    "    sheet_name=\"铅钡\")\n",
    "x = []\n",
    "columns = data.columns\n",
    "for i in range(data.shape[0]):\n",
    "    lst = []\n",
    "    for column in columns[1:15]:\n",
    "        if column == \"二氧化硅(SiO2)\" or column == \"氧化铅(PbO)\" or column == \"氧化钡(BaO)\" or column == \"五氧化二磷(P2O5)\" or column == \"二氧化硫(SO2)\" or column == \"氧化铝(Al2O3)\" or column == \"氧化铜(CuO)\" or column == \"氧化钠(Na2O)\" or column == \"氧化钙(CaO)\":\n",
    "            lst.append(data.iloc[i][column])\n",
    "    x.append(lst)\n",
    "# print(x)\n",
    "y_pred = KMeans(n_clusters=2, random_state=520).fit_predict(x)\n",
    "print(y_pred)\n",
    "print(len(y_pred))"
   ]
  },
  {
   "cell_type": "code",
   "execution_count": null,
   "id": "38c6d376",
   "metadata": {},
   "outputs": [],
   "source": []
  }
 ],
 "metadata": {
  "kernelspec": {
   "display_name": "Python 3 (ipykernel)",
   "language": "python",
   "name": "python3"
  },
  "language_info": {
   "codemirror_mode": {
    "name": "ipython",
    "version": 3
   },
   "file_extension": ".py",
   "mimetype": "text/x-python",
   "name": "python",
   "nbconvert_exporter": "python",
   "pygments_lexer": "ipython3",
   "version": "3.9.7"
  },
  "latex_envs": {
   "LaTeX_envs_menu_present": true,
   "autoclose": false,
   "autocomplete": true,
   "bibliofile": "biblio.bib",
   "cite_by": "apalike",
   "current_citInitial": 1,
   "eqLabelWithNumbers": true,
   "eqNumInitial": 1,
   "hotkeys": {
    "equation": "Ctrl-E",
    "itemize": "Ctrl-I"
   },
   "labels_anchors": false,
   "latex_user_defs": false,
   "report_style_numbering": false,
   "user_envs_cfg": false
  },
  "nbTranslate": {
   "displayLangs": [
    "*"
   ],
   "hotkey": "alt-t",
   "langInMainMenu": true,
   "sourceLang": "en",
   "targetLang": "fr",
   "useGoogleTranslate": true
  },
  "toc": {
   "base_numbering": 1,
   "nav_menu": {},
   "number_sections": true,
   "sideBar": true,
   "skip_h1_title": false,
   "title_cell": "Table of Contents",
   "title_sidebar": "Contents",
   "toc_cell": false,
   "toc_position": {},
   "toc_section_display": true,
   "toc_window_display": false
  },
  "varInspector": {
   "cols": {
    "lenName": 16,
    "lenType": 16,
    "lenVar": 40
   },
   "kernels_config": {
    "python": {
     "delete_cmd_postfix": "",
     "delete_cmd_prefix": "del ",
     "library": "var_list.py",
     "varRefreshCmd": "print(var_dic_list())"
    },
    "r": {
     "delete_cmd_postfix": ") ",
     "delete_cmd_prefix": "rm(",
     "library": "var_list.r",
     "varRefreshCmd": "cat(var_dic_list()) "
    }
   },
   "types_to_exclude": [
    "module",
    "function",
    "builtin_function_or_method",
    "instance",
    "_Feature"
   ],
   "window_display": false
  }
 },
 "nbformat": 4,
 "nbformat_minor": 5
}
