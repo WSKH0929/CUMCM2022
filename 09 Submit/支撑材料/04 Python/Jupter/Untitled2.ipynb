{
 "cells": [
  {
   "cell_type": "code",
   "execution_count": 34,
   "id": "e9f41fe7",
   "metadata": {},
   "outputs": [
    {
     "name": "stdout",
     "output_type": "stream",
     "text": [
      "{'C': 0, 'A': 1, 'B': 2}\n",
      "{'高钾': 0, '铅钡': 1}\n",
      "{'蓝绿': 0, '浅蓝': 1, '紫': 2, '深绿': 3, '深蓝': 4, 0: 5, '浅绿': 6, '黑': 7, '绿': 8}\n",
      "{'无风化': 0, '风化': 1}\n",
      "    文物编号 纹饰 类型 颜色 表面风化\n",
      "0      1  0  0  0    0\n",
      "1      2  1  1  1    1\n",
      "2      3  1  0  0    0\n",
      "3      4  1  0  0    0\n",
      "4      5  1  0  0    0\n",
      "5      6  1  0  0    0\n",
      "6      7  2  0  0    1\n",
      "7      8  0  1  2    1\n",
      "8      9  2  0  0    1\n",
      "9     10  2  0  0    1\n",
      "10    11  0  1  1    1\n",
      "11    12  2  0  0    1\n",
      "12    13  0  0  1    0\n",
      "13    14  0  0  3    0\n",
      "14    15  0  0  1    0\n",
      "15    16  0  0  1    0\n",
      "16    17  0  0  1    0\n",
      "17    18  1  0  4    0\n",
      "18    19  1  1  5    1\n",
      "19    20  1  1  1    0\n",
      "20    21  1  0  0    0\n",
      "21    22  2  0  0    1\n",
      "22    23  1  1  0    1\n",
      "23    24  0  1  2    0\n",
      "24    25  0  1  1    1\n",
      "25    26  0  1  2    1\n",
      "26    27  2  0  0    1\n",
      "27    28  1  1  1    1\n",
      "28    29  1  1  1    1\n",
      "29    30  1  1  4    0\n",
      "30    31  0  1  2    0\n",
      "31    32  0  1  6    0\n",
      "32    33  0  1  3    0\n",
      "33    34  0  1  3    1\n",
      "34    35  0  1  6    0\n",
      "35    36  0  1  3    1\n",
      "36    37  0  1  3    0\n",
      "37    38  0  1  3    1\n",
      "38    39  0  1  3    1\n",
      "39    40  0  1  5    1\n",
      "40    41  0  1  6    1\n",
      "41    42  1  1  1    1\n",
      "42    43  0  1  1    1\n",
      "43    44  1  1  1    1\n",
      "44    45  1  1  1    0\n",
      "45    46  1  1  1    0\n",
      "46    47  1  1  1    0\n",
      "47    48  1  1  5    1\n",
      "48    49  1  1  7    1\n",
      "49    50  1  1  7    1\n",
      "50    51  0  1  1    1\n",
      "51    52  0  1  1    1\n",
      "52    53  1  1  1    1\n",
      "53    54  0  1  1    1\n",
      "54    55  0  1  8    0\n",
      "55    56  0  1  0    1\n",
      "56    57  0  1  0    1\n",
      "57    58  0  1  5    1\n"
     ]
    }
   ],
   "source": [
    "import pandas as pd\n",
    "data = pd.read_excel(\n",
    "    r'D:\\2 BachelorDegree\\大四上比赛或项目资料\\数模国赛\\OurGit\\cumcm2022\\05 Wskh\\Python\\CUMCM2022\\src\\data\\灰色关联分析01的输入数据.xlsx',\n",
    "    sheet_name=\"表单1\")\n",
    "\n",
    "dic1,dic2,dic3,dic4 = {},{},{},{}\n",
    "for i in range(data.shape[0]):\n",
    "    if data.iloc[i]['纹饰'] not in dic1:\n",
    "        dic1[data.iloc[i]['纹饰']] = len(dic1)\n",
    "    data.loc[i,'纹饰'] = dic1[data.iloc[i]['纹饰']]\n",
    "    \n",
    "    if data.iloc[i]['类型'] not in dic2:\n",
    "        dic2[data.iloc[i]['类型']] = len(dic2)\n",
    "    data.loc[i,'类型'] = dic2[data.iloc[i]['类型']]\n",
    "    \n",
    "    if data.iloc[i]['颜色'] not in dic3:\n",
    "        dic3[data.iloc[i]['颜色']] = len(dic3)\n",
    "    data.loc[i,'颜色'] = dic3[data.iloc[i]['颜色']]\n",
    "    \n",
    "    if data.iloc[i]['表面风化'] not in dic4:\n",
    "        dic4[data.iloc[i]['表面风化']] = len(dic4)\n",
    "    data.loc[i,'表面风化'] = dic4[data.iloc[i]['表面风化']]\n",
    "print(dic1)\n",
    "print(dic2)\n",
    "print(dic3)\n",
    "print(dic4)\n",
    "print(data)\n",
    "data.to_excel(r'D:\\2 BachelorDegree\\大四上比赛或项目资料\\数模国赛\\OurGit\\cumcm2022\\05 Wskh\\Python\\CUMCM2022\\src\\data\\灰色关联分析01的输入数据_export.xlsx')"
   ]
  },
  {
   "cell_type": "code",
   "execution_count": null,
   "id": "598104be",
   "metadata": {},
   "outputs": [],
   "source": []
  }
 ],
 "metadata": {
  "kernelspec": {
   "display_name": "Python 3 (ipykernel)",
   "language": "python",
   "name": "python3"
  },
  "language_info": {
   "codemirror_mode": {
    "name": "ipython",
    "version": 3
   },
   "file_extension": ".py",
   "mimetype": "text/x-python",
   "name": "python",
   "nbconvert_exporter": "python",
   "pygments_lexer": "ipython3",
   "version": "3.9.7"
  },
  "latex_envs": {
   "LaTeX_envs_menu_present": true,
   "autoclose": false,
   "autocomplete": true,
   "bibliofile": "biblio.bib",
   "cite_by": "apalike",
   "current_citInitial": 1,
   "eqLabelWithNumbers": true,
   "eqNumInitial": 1,
   "hotkeys": {
    "equation": "Ctrl-E",
    "itemize": "Ctrl-I"
   },
   "labels_anchors": false,
   "latex_user_defs": false,
   "report_style_numbering": false,
   "user_envs_cfg": false
  },
  "nbTranslate": {
   "displayLangs": [
    "*"
   ],
   "hotkey": "alt-t",
   "langInMainMenu": true,
   "sourceLang": "en",
   "targetLang": "fr",
   "useGoogleTranslate": true
  },
  "toc": {
   "base_numbering": 1,
   "nav_menu": {},
   "number_sections": true,
   "sideBar": true,
   "skip_h1_title": false,
   "title_cell": "Table of Contents",
   "title_sidebar": "Contents",
   "toc_cell": false,
   "toc_position": {},
   "toc_section_display": true,
   "toc_window_display": false
  },
  "varInspector": {
   "cols": {
    "lenName": 16,
    "lenType": 16,
    "lenVar": 40
   },
   "kernels_config": {
    "python": {
     "delete_cmd_postfix": "",
     "delete_cmd_prefix": "del ",
     "library": "var_list.py",
     "varRefreshCmd": "print(var_dic_list())"
    },
    "r": {
     "delete_cmd_postfix": ") ",
     "delete_cmd_prefix": "rm(",
     "library": "var_list.r",
     "varRefreshCmd": "cat(var_dic_list()) "
    }
   },
   "types_to_exclude": [
    "module",
    "function",
    "builtin_function_or_method",
    "instance",
    "_Feature"
   ],
   "window_display": false
  }
 },
 "nbformat": 4,
 "nbformat_minor": 5
}
