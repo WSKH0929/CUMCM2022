{
 "cells": [
  {
   "cell_type": "code",
   "execution_count": 10,
   "id": "afeaa061",
   "metadata": {},
   "outputs": [
    {
     "name": "stdout",
     "output_type": "stream",
     "text": [
      "The accuracy of the Logistic Regression is: 1.0\n",
      "The accuracy of the Logistic Regression is: 1.0\n",
      "The confusion matrix result:\n",
      " [[ 9  0]\n",
      " [ 0 18]]\n"
     ]
    },
    {
     "data": {
      "image/png": "[encoded data removed]",
      "text/plain": [
       "<Figure size 576x432 with 2 Axes>"
      ]
     },
     "metadata": {
      "needs_background": "light"
     },
     "output_type": "display_data"
    },
    {
     "name": "stdout",
     "output_type": "stream",
     "text": [
      "[0 1 1 1 1 0 0 1]\n"
     ]
    }
   ],
   "source": [
    "import pandas as pd\n",
    "from xgboost.sklearn import XGBClassifier\n",
    "from sklearn.model_selection import train_test_split\n",
    "from sklearn import metrics\n",
    "import matplotlib.pyplot as plt\n",
    "import seaborn as sns\n",
    "import numpy as np\n",
    "\n",
    "train_data = pd.read_excel(\n",
    "    r'D:\\2 BachelorDegree\\大四上比赛或项目资料\\数模国赛\\OurGit\\cumcm2022\\05 Wskh\\Python\\CUMCM2022\\src\\data\\data.xlsx',\n",
    "    sheet_name=\"Sheet1\")\n",
    "test_data = pd.read_excel(\n",
    "    r'D:\\2 BachelorDegree\\大四上比赛或项目资料\\数模国赛\\OurGit\\cumcm2022\\05 Wskh\\Python\\CUMCM2022\\src\\data\\data2.xlsx',\n",
    "    sheet_name=\"Sheet1\")\n",
    "# 开始训练\n",
    "x_data,y_data = [],[]\n",
    "columns = train_data.columns\n",
    "# 一共 67 个数据 \n",
    "for i in range(train_data.shape[0]):\n",
    "    # pass\n",
    "    lst = []\n",
    "    for item in train_data.iloc[i][columns[1:15]]:\n",
    "        lst.append(item)\n",
    "    x_data.append(lst)\n",
    "    y_data.append(0 if train_data.iloc[i]['类型'] == '高钾' else 1)\n",
    "\n",
    "# 训练集，测试集划分\n",
    "x_train, x_test, y_train, y_test = train_test_split(x_data, y_data, test_size = 0.4, random_state = 520)\n",
    "clf = XGBClassifier()\n",
    "clf.fit(x_train, y_train)\n",
    "## 在训练集和测试集上分布利用训练好的模型进行预测\n",
    "train_predict = clf.predict(x_train)\n",
    "test_predict = clf.predict(x_test)\n",
    "\n",
    "## 利用accuracy（准确度）【预测正确的样本数目占总预测样本数目的比例】评估模型效果\n",
    "print('The accuracy of the Logistic Regression is:',metrics.accuracy_score(y_train,train_predict))\n",
    "print('The accuracy of the Logistic Regression is:',metrics.accuracy_score(y_test,test_predict))\n",
    "\n",
    "## 查看混淆矩阵 (预测值和真实值的各类情况统计矩阵)\n",
    "confusion_matrix_result = metrics.confusion_matrix(test_predict,y_test)\n",
    "print('The confusion matrix result:\\n',confusion_matrix_result)\n",
    "\n",
    "# 利用热力图对于结果进行可视化\n",
    "plt.figure(figsize=(8, 6))\n",
    "sns.heatmap(confusion_matrix_result, annot=True)\n",
    "plt.xlabel('Predicted labels')\n",
    "plt.ylabel('True labels')\n",
    "# plt.savefig(r'C:/Users/WSKH/Desktop/ee.png',dpi=300)\n",
    "plt.show()\n",
    "\n",
    "# 训练完毕，开始预测\n",
    "x_data = []\n",
    "columns = test_data.columns\n",
    "# 一共 67 个数据 \n",
    "for i in range(test_data.shape[0]):\n",
    "    # pass\n",
    "    lst = []\n",
    "    for item in test_data.iloc[i][columns[2:16]]:\n",
    "        lst.append(item)\n",
    "    x_data.append(lst)\n",
    "## 在训练集和测试集上分布利用训练好的模型进行预测\n",
    "predict = clf.predict(np.array(x_data))\n",
    "# 0 是高钾 ， 1是铅钡\n",
    "print(predict)"
   ]
  },
  {
   "cell_type": "code",
   "execution_count": 14,
   "id": "9f5d5ad3",
   "metadata": {},
   "outputs": [
    {
     "name": "stdout",
     "output_type": "stream",
     "text": [
      "The accuracy of the Logistic Regression is: 1.0\n",
      "The accuracy of the Logistic Regression is: 1.0\n",
      "The confusion matrix result:\n",
      " [[ 9  0]\n",
      " [ 0 18]]\n"
     ]
    },
    {
     "data": {
      "image/png": "[encoded data removed]",
      "text/plain": [
       "<Figure size 576x432 with 2 Axes>"
      ]
     },
     "metadata": {
      "needs_background": "light"
     },
     "output_type": "display_data"
    },
    {
     "name": "stdout",
     "output_type": "stream",
     "text": [
      "[0 1 1 1 1 0 0 1]\n"
     ]
    }
   ],
   "source": [
    "import pandas as pd\n",
    "import sklearn.svm as svm\n",
    "from sklearn.model_selection import train_test_split\n",
    "from sklearn import metrics\n",
    "import matplotlib.pyplot as plt\n",
    "import seaborn as sns\n",
    "import numpy as np\n",
    "\n",
    "train_data = pd.read_excel(\n",
    "    r'D:\\2 BachelorDegree\\大四上比赛或项目资料\\数模国赛\\OurGit\\cumcm2022\\05 Wskh\\Python\\CUMCM2022\\src\\data\\data.xlsx',\n",
    "    sheet_name=\"Sheet1\")\n",
    "test_data = pd.read_excel(\n",
    "    r'D:\\2 BachelorDegree\\大四上比赛或项目资料\\数模国赛\\OurGit\\cumcm2022\\05 Wskh\\Python\\CUMCM2022\\src\\data\\data2.xlsx',\n",
    "    sheet_name=\"Sheet1\")\n",
    "# 开始训练\n",
    "x_data,y_data = [],[]\n",
    "columns = train_data.columns\n",
    "# 一共 67 个数据 \n",
    "for i in range(train_data.shape[0]):\n",
    "    # pass\n",
    "    lst = []\n",
    "    for item in train_data.iloc[i][columns[1:15]]:\n",
    "        lst.append(item)\n",
    "    x_data.append(lst)\n",
    "    y_data.append(0 if train_data.iloc[i]['类型'] == '高钾' else 1)\n",
    "# 训练集，测试集划分\n",
    "x_train, x_test, y_train, y_test = train_test_split(x_data, y_data, test_size = 0.4, random_state = 520)\n",
    "clf = svm.SVC()\n",
    "clf.fit(x_train, y_train)\n",
    "## 在训练集和测试集上分布利用训练好的模型进行预测\n",
    "train_predict = clf.predict(x_train)\n",
    "test_predict = clf.predict(x_test)\n",
    "\n",
    "## 利用accuracy（准确度）【预测正确的样本数目占总预测样本数目的比例】评估模型效果\n",
    "print('The accuracy of the Logistic Regression is:',metrics.accuracy_score(y_train,train_predict))\n",
    "print('The accuracy of the Logistic Regression is:',metrics.accuracy_score(y_test,test_predict))\n",
    "\n",
    "## 查看混淆矩阵 (预测值和真实值的各类情况统计矩阵)\n",
    "confusion_matrix_result = metrics.confusion_matrix(test_predict,y_test)\n",
    "print('The confusion matrix result:\\n',confusion_matrix_result)\n",
    "\n",
    "# 利用热力图对于结果进行可视化\n",
    "plt.figure(figsize=(8, 6))\n",
    "sns.heatmap(confusion_matrix_result, annot=True)\n",
    "plt.xlabel('Predicted labels')\n",
    "plt.ylabel('True labels')\n",
    "# plt.savefig(r'C:/Users/WSKH/Desktop/ee.png',dpi=300)\n",
    "plt.show()\n",
    "\n",
    "# 训练完毕，开始预测\n",
    "x_data = []\n",
    "columns = test_data.columns\n",
    "# 一共 67 个数据 \n",
    "for i in range(test_data.shape[0]):\n",
    "    # pass\n",
    "    lst = []\n",
    "    for item in test_data.iloc[i][columns[2:16]]:\n",
    "        lst.append(item)\n",
    "    x_data.append(lst)\n",
    "## 在训练集和测试集上分布利用训练好的模型进行预测\n",
    "predict = clf.predict(np.array(x_data))\n",
    "# 0 是高钾 ， 1是铅钡\n",
    "print(predict)"
   ]
  },
  {
   "cell_type": "code",
   "execution_count": null,
   "id": "bc18b3cb",
   "metadata": {},
   "outputs": [],
   "source": []
  }
 ],
 "metadata": {
  "kernelspec": {
   "display_name": "Python 3 (ipykernel)",
   "language": "python",
   "name": "python3"
  },
  "language_info": {
   "codemirror_mode": {
    "name": "ipython",
    "version": 3
   },
   "file_extension": ".py",
   "mimetype": "text/x-python",
   "name": "python",
   "nbconvert_exporter": "python",
   "pygments_lexer": "ipython3",
   "version": "3.9.7"
  },
  "latex_envs": {
   "LaTeX_envs_menu_present": true,
   "autoclose": false,
   "autocomplete": true,
   "bibliofile": "biblio.bib",
   "cite_by": "apalike",
   "current_citInitial": 1,
   "eqLabelWithNumbers": true,
   "eqNumInitial": 1,
   "hotkeys": {
    "equation": "Ctrl-E",
    "itemize": "Ctrl-I"
   },
   "labels_anchors": false,
   "latex_user_defs": false,
   "report_style_numbering": false,
   "user_envs_cfg": false
  },
  "nbTranslate": {
   "displayLangs": [
    "*"
   ],
   "hotkey": "alt-t",
   "langInMainMenu": true,
   "sourceLang": "en",
   "targetLang": "fr",
   "useGoogleTranslate": true
  },
  "toc": {
   "base_numbering": 1,
   "nav_menu": {},
   "number_sections": true,
   "sideBar": true,
   "skip_h1_title": false,
   "title_cell": "Table of Contents",
   "title_sidebar": "Contents",
   "toc_cell": false,
   "toc_position": {},
   "toc_section_display": true,
   "toc_window_display": false
  },
  "varInspector": {
   "cols": {
    "lenName": 16,
    "lenType": 16,
    "lenVar": 40
   },
   "kernels_config": {
    "python": {
     "delete_cmd_postfix": "",
     "delete_cmd_prefix": "del ",
     "library": "var_list.py",
     "varRefreshCmd": "print(var_dic_list())"
    },
    "r": {
     "delete_cmd_postfix": ") ",
     "delete_cmd_prefix": "rm(",
     "library": "var_list.r",
     "varRefreshCmd": "cat(var_dic_list()) "
    }
   },
   "types_to_exclude": [
    "module",
    "function",
    "builtin_function_or_method",
    "instance",
    "_Feature"
   ],
   "window_display": false
  }
 },
 "nbformat": 4,
 "nbformat_minor": 5
}
